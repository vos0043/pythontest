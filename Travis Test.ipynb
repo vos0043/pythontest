{
 "cells": [
  {
   "cell_type": "code",
   "execution_count": 37,
   "metadata": {},
   "outputs": [],
   "source": [
    "# This function adds two numbers\n",
    "def add(x, y):\n",
    "    return x + y\n",
    "\n",
    "# This function subtracts two numbers \n",
    "def subtract(x, y):\n",
    "    return x - y\n",
    "\n",
    "# This function multiplies two numbers\n",
    "def multiply(x, y):\n",
    "    return x * y\n",
    "\n",
    "# This function divides two numbers\n",
    "def divide(x, y):\n",
    "    return x / y\n",
    "\n",
    "def test_add(x,y):\n",
    "    if (add(x,y) == x + y):\n",
    "        return \"add passed\"\n",
    "    else:\n",
    "        return \"add failed\"\n",
    "\n",
    "def test_subtract(x,y):   \n",
    "    if (subtract(x,y) == x - y):\n",
    "        return \"subtract passed\"\n",
    "    else:\n",
    "        return \"subtract failed\"\n",
    "    \n",
    "def test_multiply(x,y):\n",
    "    if (multiply(x,y) == x * y):\n",
    "        return \"multiply passed\"\n",
    "    else:\n",
    "        return \"multiply failed\"\n",
    "    \n",
    "def test_divide(x,y):\n",
    "    if (divide(x,y) == x / y):\n",
    "        return \"divide passed\"\n",
    "\n",
    "    else:\n",
    "        return \"divide failed\""
   ]
  },
  {
   "cell_type": "code",
   "execution_count": null,
   "metadata": {},
   "outputs": [],
   "source": []
  },
  {
   "cell_type": "code",
   "execution_count": null,
   "metadata": {},
   "outputs": [],
   "source": []
  }
 ],
 "metadata": {
  "kernelspec": {
   "display_name": "Python 2",
   "language": "python",
   "name": "python2"
  },
  "language_info": {
   "codemirror_mode": {
    "name": "ipython",
    "version": 2
   },
   "file_extension": ".py",
   "mimetype": "text/x-python",
   "name": "python",
   "nbconvert_exporter": "python",
   "pygments_lexer": "ipython2",
   "version": "2.7.15"
  }
 },
 "nbformat": 4,
 "nbformat_minor": 2
}
